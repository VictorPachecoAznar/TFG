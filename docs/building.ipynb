{
 "cells": [
  {
   "cell_type": "markdown",
   "id": "6a3a48a0",
   "metadata": {},
   "source": [
    "[![Open in Colab](https://colab.research.google.com/assets/colab-badge.svg)](https://colab.research.google.com/github/VictorPachecoAznar/TFG/blob/main/docs/building.ipynb)"
   ]
  },
  {
   "cell_type": "markdown",
   "id": "7387a5d3-ccb7-4fca-a2c0-baeaab463cab",
   "metadata": {
    "scrolled": true
   },
   "source": [
    "INSTALL THE PACKAGE IF NEEDED\n"
   ]
  },
  {
   "cell_type": "code",
   "execution_count": 1,
   "id": "491ce30d",
   "metadata": {},
   "outputs": [],
   "source": [
    "# %pip install git+https://github.com/VictorPachecoAznar/TFG"
   ]
  },
  {
   "cell_type": "markdown",
   "id": "cbe88afb-6202-490a-94ff-7a2e90108972",
   "metadata": {},
   "source": [
    "SET UP SOME ENVIRONMENT VARIABLES WITHIN THE ELEMENTS"
   ]
  },
  {
   "cell_type": "code",
   "execution_count": 2,
   "id": "159e79d7",
   "metadata": {},
   "outputs": [],
   "source": [
    "from apb_spatial_computer_vision import BASE_DIR,DATA_DIR,OUT_DIR"
   ]
  },
  {
   "cell_type": "code",
   "execution_count": 3,
   "id": "ada517eb-c11e-45f2-bc7f-687727cfcbeb",
   "metadata": {},
   "outputs": [],
   "source": [
    "import os\n",
    "os.environ['BASE_DIR'] = BASE_DIR\n",
    "os.environ['DATA_DIR'] = DATA_DIR\n",
    "os.environ['TEXT_PROMPT']='building'\n",
    "os.environ['VECTOR_FILE']= os.path.join(OUT_DIR,'building_jupyter.geojson')\n",
    "os.environ['NAME_ORTOFOTO']='ORTO_ZAL_BCN.tif'"
   ]
  },
  {
   "cell_type": "markdown",
   "id": "3d5182aa",
   "metadata": {},
   "source": [
    "SET UP THE STUDY AREA"
   ]
  },
  {
   "cell_type": "code",
   "execution_count": 4,
   "id": "9c04f52e-7a3d-4684-bc9a-9e79e3bf013c",
   "metadata": {},
   "outputs": [
    {
     "data": {
      "application/vnd.jupyter.widget-view+json": {
       "model_id": "5e0fda1d64fa475ab1fdf9d5acb50f2c",
       "version_major": 2,
       "version_minor": 0
      },
      "text/plain": [
       "Map(center=[41.316, 2.14], controls=(ZoomControl(options=['position', 'zoom_in_text', 'zoom_in_title', 'zoom_o…"
      ]
     },
     "execution_count": 4,
     "metadata": {},
     "output_type": "execute_result"
    }
   ],
   "source": [
    "import leafmap\n",
    "map=leafmap.Map(center=[41.316,2.14],zoom=15,basemap='Esri.WorldImagery')\n",
    "map"
   ]
  },
  {
   "cell_type": "markdown",
   "id": "43ab87b0",
   "metadata": {},
   "source": [
    "LOAD THE LIBRARIES"
   ]
  },
  {
   "cell_type": "code",
   "execution_count": 5,
   "id": "bd2ff2d2-43da-4001-8b15-fa4b2d7733ca",
   "metadata": {},
   "outputs": [],
   "source": [
    "from apb_spatial_computer_vision.main import pyramid_sam_apply,text_to_bbox_lowres_complete\n",
    "from apb_spatial_computer_vision.raster_utilities import Ortophoto\n",
    "from apb_spatial_computer_vision.sam_utilities import SamGeo_apb\n",
    "from apb_spatial_computer_vision.lang_sam_utilities import LangSAM_apb"
   ]
  },
  {
   "cell_type": "code",
   "execution_count": 6,
   "id": "28d2178f",
   "metadata": {},
   "outputs": [
    {
     "name": "stdout",
     "output_type": "stream",
     "text": [
      "final text_encoder_type: bert-base-uncased\n"
     ]
    }
   ],
   "source": [
    "sam = SamGeo_apb(\n",
    "    model_type=\"vit_h\",\n",
    "    automatic=False,\n",
    "    sam_kwargs=None,\n",
    "    )\n",
    "\n",
    "lang_sam=LangSAM_apb()"
   ]
  },
  {
   "cell_type": "markdown",
   "id": "11541291",
   "metadata": {},
   "source": [
    "GET THE NEEDED ENVIRONMENT VARIABLES TO RUN THE CODE"
   ]
  },
  {
   "cell_type": "code",
   "execution_count": 7,
   "id": "8f718433",
   "metadata": {},
   "outputs": [],
   "source": [
    "test_folder =  os.getenv('DATA_DIR')\n",
    "path_orto = os.path.join(test_folder, os.getenv('NAME_ORTOFOTO','default_orto.tif'))\n",
    "input_image = Ortophoto(path_orto)\n",
    "\n",
    "vector_file=os.getenv('VECTOR_FILE',None)\n",
    "if vector_file is not None:\n",
    "    if os.path.exists(vector_file):\n",
    "        vector_file=vector_file\n",
    "    else:\n",
    "        vector_file=os.path.join(input_image.folder, vector_file)\n",
    "else:\n",
    "    vector_file=vector_file\n",
    "\n",
    "segmentation_name= os.getenv('TEXT_PROMPT','')"
   ]
  },
  {
   "cell_type": "markdown",
   "id": "7fd288ab",
   "metadata": {},
   "source": [
    "UNCOMMENT IF PYRAMID IS AVAILABLE"
   ]
  },
  {
   "cell_type": "code",
   "execution_count": 8,
   "id": "de4cb321",
   "metadata": {},
   "outputs": [],
   "source": [
    "\n",
    "input_image.pyramid=(os.path.join(input_image.folder,os.path.basename(input_image.raster_path).split('.')[0])+'_pyramid')\n",
    "input_image.resolutions=os.path.join(input_image.folder,os.path.splitext(input_image.basename)[0]+'_resolutions')\n"
   ]
  },
  {
   "cell_type": "markdown",
   "id": "70b16bfb",
   "metadata": {},
   "source": [
    "RUN GROUNDING DINO TO GET THE BOUNDING BOXES AND THE PATH TO THE IMAGES THEY HAVE BEEN FOUND AT"
   ]
  },
  {
   "cell_type": "code",
   "execution_count": 9,
   "id": "e16d29af",
   "metadata": {},
   "outputs": [
    {
     "name": "stdout",
     "output_type": "stream",
     "text": [
      "d:\\VICTOR_PACHECO\\CUARTO\\PROCESADO_IMAGEN\\out\\building_jupyter.geojson\n"
     ]
    },
    {
     "data": {
      "text/html": [
       "<div>\n",
       "<style scoped>\n",
       "    .dataframe tbody tr th:only-of-type {\n",
       "        vertical-align: middle;\n",
       "    }\n",
       "\n",
       "    .dataframe tbody tr th {\n",
       "        vertical-align: top;\n",
       "    }\n",
       "\n",
       "    .dataframe thead th {\n",
       "        text-align: right;\n",
       "    }\n",
       "</style>\n",
       "<table border=\"1\" class=\"dataframe\">\n",
       "  <thead>\n",
       "    <tr style=\"text-align: right;\">\n",
       "      <th></th>\n",
       "      <th>NAME</th>\n",
       "      <th>geometry</th>\n",
       "    </tr>\n",
       "  </thead>\n",
       "  <tbody>\n",
       "    <tr>\n",
       "      <th>0</th>\n",
       "      <td>D:\\VICTOR_PACHECO\\CUARTO\\PROCESADO_IMAGEN\\data...</td>\n",
       "      <td>POLYGON ((428638.042 4574817.455, 428638.042 4...</td>\n",
       "    </tr>\n",
       "    <tr>\n",
       "      <th>1</th>\n",
       "      <td>D:\\VICTOR_PACHECO\\CUARTO\\PROCESADO_IMAGEN\\data...</td>\n",
       "      <td>POLYGON ((427214.558 4574956.192, 427214.558 4...</td>\n",
       "    </tr>\n",
       "    <tr>\n",
       "      <th>2</th>\n",
       "      <td>D:\\VICTOR_PACHECO\\CUARTO\\PROCESADO_IMAGEN\\data...</td>\n",
       "      <td>POLYGON ((428638.397 4574826.907, 428638.397 4...</td>\n",
       "    </tr>\n",
       "    <tr>\n",
       "      <th>3</th>\n",
       "      <td>D:\\VICTOR_PACHECO\\CUARTO\\PROCESADO_IMAGEN\\data...</td>\n",
       "      <td>POLYGON ((427973.197 4574881.399, 427973.197 4...</td>\n",
       "    </tr>\n",
       "    <tr>\n",
       "      <th>4</th>\n",
       "      <td>D:\\VICTOR_PACHECO\\CUARTO\\PROCESADO_IMAGEN\\data...</td>\n",
       "      <td>POLYGON ((427866.367 4575027.679, 427866.367 4...</td>\n",
       "    </tr>\n",
       "    <tr>\n",
       "      <th>5</th>\n",
       "      <td>D:\\VICTOR_PACHECO\\CUARTO\\PROCESADO_IMAGEN\\data...</td>\n",
       "      <td>POLYGON ((427469.993 4575142.903, 427469.993 4...</td>\n",
       "    </tr>\n",
       "    <tr>\n",
       "      <th>6</th>\n",
       "      <td>D:\\VICTOR_PACHECO\\CUARTO\\PROCESADO_IMAGEN\\data...</td>\n",
       "      <td>POLYGON ((428061.974 4574919.016, 428061.974 4...</td>\n",
       "    </tr>\n",
       "    <tr>\n",
       "      <th>7</th>\n",
       "      <td>D:\\VICTOR_PACHECO\\CUARTO\\PROCESADO_IMAGEN\\data...</td>\n",
       "      <td>POLYGON ((428638.342 4575179.429, 428638.342 4...</td>\n",
       "    </tr>\n",
       "    <tr>\n",
       "      <th>8</th>\n",
       "      <td>D:\\VICTOR_PACHECO\\CUARTO\\PROCESADO_IMAGEN\\data...</td>\n",
       "      <td>POLYGON ((428167.549 4574869.303, 428167.549 4...</td>\n",
       "    </tr>\n",
       "    <tr>\n",
       "      <th>9</th>\n",
       "      <td>D:\\VICTOR_PACHECO\\CUARTO\\PROCESADO_IMAGEN\\data...</td>\n",
       "      <td>POLYGON ((428575.326 4575059.784, 428575.326 4...</td>\n",
       "    </tr>\n",
       "    <tr>\n",
       "      <th>10</th>\n",
       "      <td>D:\\VICTOR_PACHECO\\CUARTO\\PROCESADO_IMAGEN\\data...</td>\n",
       "      <td>POLYGON ((428278.614 4575069.406, 428278.614 4...</td>\n",
       "    </tr>\n",
       "    <tr>\n",
       "      <th>11</th>\n",
       "      <td>D:\\VICTOR_PACHECO\\CUARTO\\PROCESADO_IMAGEN\\data...</td>\n",
       "      <td>POLYGON ((428376.824 4575030.034, 428376.824 4...</td>\n",
       "    </tr>\n",
       "    <tr>\n",
       "      <th>12</th>\n",
       "      <td>D:\\VICTOR_PACHECO\\CUARTO\\PROCESADO_IMAGEN\\data...</td>\n",
       "      <td>POLYGON ((428261.809 4574855.56, 428261.809 45...</td>\n",
       "    </tr>\n",
       "    <tr>\n",
       "      <th>13</th>\n",
       "      <td>D:\\VICTOR_PACHECO\\CUARTO\\PROCESADO_IMAGEN\\data...</td>\n",
       "      <td>POLYGON ((427931.001 4575301.758, 427931.001 4...</td>\n",
       "    </tr>\n",
       "    <tr>\n",
       "      <th>14</th>\n",
       "      <td>D:\\VICTOR_PACHECO\\CUARTO\\PROCESADO_IMAGEN\\data...</td>\n",
       "      <td>POLYGON ((428151.57 4575258.505, 428151.57 457...</td>\n",
       "    </tr>\n",
       "    <tr>\n",
       "      <th>15</th>\n",
       "      <td>D:\\VICTOR_PACHECO\\CUARTO\\PROCESADO_IMAGEN\\data...</td>\n",
       "      <td>POLYGON ((427764.539 4574956.828, 427764.539 4...</td>\n",
       "    </tr>\n",
       "    <tr>\n",
       "      <th>16</th>\n",
       "      <td>D:\\VICTOR_PACHECO\\CUARTO\\PROCESADO_IMAGEN\\data...</td>\n",
       "      <td>POLYGON ((428220.827 4575384.81, 428220.827 45...</td>\n",
       "    </tr>\n",
       "    <tr>\n",
       "      <th>17</th>\n",
       "      <td>D:\\VICTOR_PACHECO\\CUARTO\\PROCESADO_IMAGEN\\data...</td>\n",
       "      <td>POLYGON ((427386.567 4574944.69, 427386.567 45...</td>\n",
       "    </tr>\n",
       "    <tr>\n",
       "      <th>18</th>\n",
       "      <td>D:\\VICTOR_PACHECO\\CUARTO\\PROCESADO_IMAGEN\\data...</td>\n",
       "      <td>POLYGON ((427579.714 4574943.428, 427579.714 4...</td>\n",
       "    </tr>\n",
       "    <tr>\n",
       "      <th>19</th>\n",
       "      <td>D:\\VICTOR_PACHECO\\CUARTO\\PROCESADO_IMAGEN\\data...</td>\n",
       "      <td>POLYGON ((427080.694 4574972.862, 427080.694 4...</td>\n",
       "    </tr>\n",
       "    <tr>\n",
       "      <th>20</th>\n",
       "      <td>D:\\VICTOR_PACHECO\\CUARTO\\PROCESADO_IMAGEN\\data...</td>\n",
       "      <td>POLYGON ((428120.161 4575132.936, 428120.161 4...</td>\n",
       "    </tr>\n",
       "    <tr>\n",
       "      <th>21</th>\n",
       "      <td>D:\\VICTOR_PACHECO\\CUARTO\\PROCESADO_IMAGEN\\data...</td>\n",
       "      <td>POLYGON ((428568.699 4575253.958, 428568.699 4...</td>\n",
       "    </tr>\n",
       "    <tr>\n",
       "      <th>22</th>\n",
       "      <td>D:\\VICTOR_PACHECO\\CUARTO\\PROCESADO_IMAGEN\\data...</td>\n",
       "      <td>POLYGON ((427545.272 4575279.46, 427545.272 45...</td>\n",
       "    </tr>\n",
       "    <tr>\n",
       "      <th>23</th>\n",
       "      <td>D:\\VICTOR_PACHECO\\CUARTO\\PROCESADO_IMAGEN\\data...</td>\n",
       "      <td>POLYGON ((427725.891 4574947.451, 427725.891 4...</td>\n",
       "    </tr>\n",
       "  </tbody>\n",
       "</table>\n",
       "</div>"
      ],
      "text/plain": [
       "                                                 NAME  \\\n",
       "0   D:\\VICTOR_PACHECO\\CUARTO\\PROCESADO_IMAGEN\\data...   \n",
       "1   D:\\VICTOR_PACHECO\\CUARTO\\PROCESADO_IMAGEN\\data...   \n",
       "2   D:\\VICTOR_PACHECO\\CUARTO\\PROCESADO_IMAGEN\\data...   \n",
       "3   D:\\VICTOR_PACHECO\\CUARTO\\PROCESADO_IMAGEN\\data...   \n",
       "4   D:\\VICTOR_PACHECO\\CUARTO\\PROCESADO_IMAGEN\\data...   \n",
       "5   D:\\VICTOR_PACHECO\\CUARTO\\PROCESADO_IMAGEN\\data...   \n",
       "6   D:\\VICTOR_PACHECO\\CUARTO\\PROCESADO_IMAGEN\\data...   \n",
       "7   D:\\VICTOR_PACHECO\\CUARTO\\PROCESADO_IMAGEN\\data...   \n",
       "8   D:\\VICTOR_PACHECO\\CUARTO\\PROCESADO_IMAGEN\\data...   \n",
       "9   D:\\VICTOR_PACHECO\\CUARTO\\PROCESADO_IMAGEN\\data...   \n",
       "10  D:\\VICTOR_PACHECO\\CUARTO\\PROCESADO_IMAGEN\\data...   \n",
       "11  D:\\VICTOR_PACHECO\\CUARTO\\PROCESADO_IMAGEN\\data...   \n",
       "12  D:\\VICTOR_PACHECO\\CUARTO\\PROCESADO_IMAGEN\\data...   \n",
       "13  D:\\VICTOR_PACHECO\\CUARTO\\PROCESADO_IMAGEN\\data...   \n",
       "14  D:\\VICTOR_PACHECO\\CUARTO\\PROCESADO_IMAGEN\\data...   \n",
       "15  D:\\VICTOR_PACHECO\\CUARTO\\PROCESADO_IMAGEN\\data...   \n",
       "16  D:\\VICTOR_PACHECO\\CUARTO\\PROCESADO_IMAGEN\\data...   \n",
       "17  D:\\VICTOR_PACHECO\\CUARTO\\PROCESADO_IMAGEN\\data...   \n",
       "18  D:\\VICTOR_PACHECO\\CUARTO\\PROCESADO_IMAGEN\\data...   \n",
       "19  D:\\VICTOR_PACHECO\\CUARTO\\PROCESADO_IMAGEN\\data...   \n",
       "20  D:\\VICTOR_PACHECO\\CUARTO\\PROCESADO_IMAGEN\\data...   \n",
       "21  D:\\VICTOR_PACHECO\\CUARTO\\PROCESADO_IMAGEN\\data...   \n",
       "22  D:\\VICTOR_PACHECO\\CUARTO\\PROCESADO_IMAGEN\\data...   \n",
       "23  D:\\VICTOR_PACHECO\\CUARTO\\PROCESADO_IMAGEN\\data...   \n",
       "\n",
       "                                             geometry  \n",
       "0   POLYGON ((428638.042 4574817.455, 428638.042 4...  \n",
       "1   POLYGON ((427214.558 4574956.192, 427214.558 4...  \n",
       "2   POLYGON ((428638.397 4574826.907, 428638.397 4...  \n",
       "3   POLYGON ((427973.197 4574881.399, 427973.197 4...  \n",
       "4   POLYGON ((427866.367 4575027.679, 427866.367 4...  \n",
       "5   POLYGON ((427469.993 4575142.903, 427469.993 4...  \n",
       "6   POLYGON ((428061.974 4574919.016, 428061.974 4...  \n",
       "7   POLYGON ((428638.342 4575179.429, 428638.342 4...  \n",
       "8   POLYGON ((428167.549 4574869.303, 428167.549 4...  \n",
       "9   POLYGON ((428575.326 4575059.784, 428575.326 4...  \n",
       "10  POLYGON ((428278.614 4575069.406, 428278.614 4...  \n",
       "11  POLYGON ((428376.824 4575030.034, 428376.824 4...  \n",
       "12  POLYGON ((428261.809 4574855.56, 428261.809 45...  \n",
       "13  POLYGON ((427931.001 4575301.758, 427931.001 4...  \n",
       "14  POLYGON ((428151.57 4575258.505, 428151.57 457...  \n",
       "15  POLYGON ((427764.539 4574956.828, 427764.539 4...  \n",
       "16  POLYGON ((428220.827 4575384.81, 428220.827 45...  \n",
       "17  POLYGON ((427386.567 4574944.69, 427386.567 45...  \n",
       "18  POLYGON ((427579.714 4574943.428, 427579.714 4...  \n",
       "19  POLYGON ((427080.694 4574972.862, 427080.694 4...  \n",
       "20  POLYGON ((428120.161 4575132.936, 428120.161 4...  \n",
       "21  POLYGON ((428568.699 4575253.958, 428568.699 4...  \n",
       "22  POLYGON ((427545.272 4575279.46, 427545.272 45...  \n",
       "23  POLYGON ((427725.891 4574947.451, 427725.891 4...  "
      ]
     },
     "execution_count": 9,
     "metadata": {},
     "output_type": "execute_result"
    }
   ],
   "source": [
    "from apb_spatial_computer_vision.main import duckdb_2_gdf\n",
    "duckdb_2_gdf(text_to_bbox_lowres_complete(input_image=input_image,\n",
    "                            text_prompt=segmentation_name,\n",
    "                            output=vector_file,\n",
    "                            sam=lang_sam),'geom')"
   ]
  },
  {
   "cell_type": "markdown",
   "id": "063fd596",
   "metadata": {},
   "source": [
    "RUNNING SAM SEGMENTATION"
   ]
  },
  {
   "cell_type": "code",
   "execution_count": 10,
   "id": "39c36116-f744-4d18-89a7-bc13fc995542",
   "metadata": {},
   "outputs": [
    {
     "name": "stdout",
     "output_type": "stream",
     "text": [
      "Some coordinates are out of the image boundary.\n",
      "Some coordinates are out of the image boundary.\n",
      "Some coordinates are out of the image boundary.\n"
     ]
    },
    {
     "data": {
      "application/vnd.jupyter.widget-view+json": {
       "model_id": "b220e31915d643bdae5abe0cfcab7a43",
       "version_major": 2,
       "version_minor": 0
      },
      "text/plain": [
       "FloatProgress(value=0.0, layout=Layout(width='auto'), style=ProgressStyle(bar_color='black'))"
      ]
     },
     "metadata": {},
     "output_type": "display_data"
    },
    {
     "data": {
      "application/vnd.jupyter.widget-view+json": {
       "model_id": "978ec45ffb544e42b93cb9e04d5b9af7",
       "version_major": 2,
       "version_minor": 0
      },
      "text/plain": [
       "FloatProgress(value=0.0, layout=Layout(width='auto'), style=ProgressStyle(bar_color='black'))"
      ]
     },
     "metadata": {},
     "output_type": "display_data"
    }
   ],
   "source": [
    "pyramid_sam_apply(input_image=input_image,\n",
    "                  detections=vector_file,\n",
    "                  geometry_column='geom',\n",
    "                  segmentation_name=segmentation_name,\n",
    "                  sam=sam,\n",
    "                  #min_expected_element_area=0.5,\n",
    "                  #lowest_pixel_size=1024,\n",
    "                  )"
   ]
  },
  {
   "cell_type": "markdown",
   "id": "3b3d3b54",
   "metadata": {},
   "source": [
    "VISUALIZE OUR RESULTS"
   ]
  },
  {
   "cell_type": "code",
   "execution_count": null,
   "id": "e53aa62d",
   "metadata": {},
   "outputs": [],
   "source": [
    "import geopandas as gpd\n",
    "result_dino=gpd.read_file(vector_file)\n",
    "result_sam=gpd.read_file(os.path.join(input_image.folder,f'sam_results_{segmentation_name}',f'first_iteration_{segmentation_name}.geojson'))\n",
    "map.add_gdf(result_dino,layer_name='DINO RESULT',style={'fillColor': 'black','color': 'black','weight': 1,'fillOpacity': 0.2})\n",
    "map.add_gdf(result_sam)\n",
    "map.to_html('assets/building.html')"
   ]
  },
  {
   "cell_type": "markdown",
   "id": "d505a51f",
   "metadata": {},
   "source": [
    "### Interactive Map\n",
    "\n",
    "<iframe src=\"../assets/building.html\" width=\"100%\" height=\"300\"></iframe>"
   ]
  }
 ],
 "metadata": {
  "kernelspec": {
   "display_name": "sam_apb_env",
   "language": "python",
   "name": "python3"
  },
  "language_info": {
   "codemirror_mode": {
    "name": "ipython",
    "version": 3
   },
   "file_extension": ".py",
   "mimetype": "text/x-python",
   "name": "python",
   "nbconvert_exporter": "python",
   "pygments_lexer": "ipython3",
   "version": "3.12.9"
  }
 },
 "nbformat": 4,
 "nbformat_minor": 5
}
